{
  "nbformat": 4,
  "nbformat_minor": 0,
  "metadata": {
    "colab": {
      "provenance": [],
      "authorship_tag": "ABX9TyPZZ7uEj5eaZlTpTLwOlkRZ",
      "include_colab_link": true
    },
    "kernelspec": {
      "name": "python3",
      "display_name": "Python 3"
    },
    "language_info": {
      "name": "python"
    }
  },
  "cells": [
    {
      "cell_type": "markdown",
      "metadata": {
        "id": "view-in-github",
        "colab_type": "text"
      },
      "source": [
        "<a href=\"https://colab.research.google.com/github/lakhya-jyoti/tensorflow/blob/main/Celsius_to_Fahrenheit_Model_Training.ipynb\" target=\"_parent\"><img src=\"https://colab.research.google.com/assets/colab-badge.svg\" alt=\"Open In Colab\"/></a>"
      ]
    },
    {
      "cell_type": "markdown",
      "source": [
        "# **Convert from celcius to fahreneheit**\n",
        "\n",
        "where the approximate formula is\n",
        "f = c * 1.8 + 32\n",
        "\n",
        "we will give Tensorflow some sample *Celsius* Values and their corresponding output Farenheit Values. Then we will train a model that figures out the above formula through the training process.\n"
      ],
      "metadata": {
        "id": "FAOUgMyY1zPi"
      }
    },
    {
      "cell_type": "markdown",
      "source": [
        "# **Import dependencies**"
      ],
      "metadata": {
        "id": "WNxeN1F2j_no"
      }
    },
    {
      "cell_type": "code",
      "source": [
        "import tensorflow as tf\n",
        "tf.get_logger().setLevel('ERROR')\n",
        "\n",
        "import numpy as np\n"
      ],
      "metadata": {
        "id": "H3CJ94_QqAGl"
      },
      "execution_count": 29,
      "outputs": []
    },
    {
      "cell_type": "markdown",
      "source": [
        "# **Set up training data**\n",
        "\n",
        "Here we create two lists celsius_q and fahrenheit_a that we can use to train our model\n"
      ],
      "metadata": {
        "id": "UsPyS1r3qQGz"
      }
    },
    {
      "cell_type": "code",
      "source": [
        "celsius_q =  np.array([-40, -10, 0, 8, 15, 22, 38], dtype=float)\n",
        "fahrenheit_a = np.array([-40, 14, 32, 46, 59, 72, 100], dtype=float)\n",
        "\n",
        "for i,c in enumerate(celsius_q):\n",
        "  print(\"{} degrees Celsius = {} degrees Fahrenheit\".format(c, fahrenheit_a[i]))"
      ],
      "metadata": {
        "colab": {
          "base_uri": "https://localhost:8080/"
        },
        "id": "db1MgSETt9GJ",
        "outputId": "df844cf9-ab0b-4f9d-ff72-66ed36e24906"
      },
      "execution_count": 30,
      "outputs": [
        {
          "output_type": "stream",
          "name": "stdout",
          "text": [
            "-40.0 degrees Celsius = -40.0 degrees Fahrenheit\n",
            "-10.0 degrees Celsius = 14.0 degrees Fahrenheit\n",
            "0.0 degrees Celsius = 32.0 degrees Fahrenheit\n",
            "8.0 degrees Celsius = 46.0 degrees Fahrenheit\n",
            "15.0 degrees Celsius = 59.0 degrees Fahrenheit\n",
            "22.0 degrees Celsius = 72.0 degrees Fahrenheit\n",
            "38.0 degrees Celsius = 100.0 degrees Fahrenheit\n"
          ]
        }
      ]
    },
    {
      "cell_type": "markdown",
      "source": [
        "# **Create our model**"
      ],
      "metadata": {
        "id": "GHkuyv4bu1H-"
      }
    },
    {
      "cell_type": "markdown",
      "source": [
        "**Build a layer**\n",
        "\n",
        "We'll call the layer 10 and create it by instantiating tf. keras. layers. Dense with the following configuration:\n",
        "* input_ shape=[1] - This specifies that the input to\n",
        "this layer is a single value. That is, the shape is a one-dimensional array with one member. Since this is the first (and only) layer, that input shape is the input shape of the entire model. The single value is a floating point number, representing degrees Celcius.\n",
        "* units=1 - This specifies the number of neurons in the layer. The number of neurons defines how many internal variables the layer has to try to learn how to solve the problem (more later). Since this is the final layer, it is also the size of the model's output — a single float value representing degrees Fahrenheit. (In a multi-layered network, the size and shape of the later would need to match the input_shape of the next layer.)"
      ],
      "metadata": {
        "id": "tXe3jLoTwUHy"
      }
    },
    {
      "cell_type": "code",
      "source": [
        "l0 = tf.keras.layers.Dense(units=1, input_shape=[1])"
      ],
      "metadata": {
        "colab": {
          "base_uri": "https://localhost:8080/"
        },
        "id": "u0CJH8P3u3fH",
        "outputId": "bc4f1106-8079-4563-b19b-c71ab5fd2120"
      },
      "execution_count": 31,
      "outputs": [
        {
          "output_type": "stream",
          "name": "stderr",
          "text": [
            "/usr/local/lib/python3.10/dist-packages/keras/src/layers/core/dense.py:87: UserWarning: Do not pass an `input_shape`/`input_dim` argument to a layer. When using Sequential models, prefer using an `Input(shape)` object as the first layer in the model instead.\n",
            "  super().__init__(activity_regularizer=activity_regularizer, **kwargs)\n"
          ]
        }
      ]
    },
    {
      "cell_type": "markdown",
      "source": [
        "# **Assemble layers into the model**\n",
        "\n",
        "Once layers are defined, they need to be assembled into a model. The Sequential model definition takes a list of layers as argument, specifying the calculation order from the input to the output.\n",
        "This model has just a single layer,\n",
        "l0.\n"
      ],
      "metadata": {
        "id": "sAS5kiyewJg1"
      }
    },
    {
      "cell_type": "code",
      "source": [
        "model = tf.keras.Sequential([l0])"
      ],
      "metadata": {
        "id": "Zc24WuIGwQTP"
      },
      "execution_count": 32,
      "outputs": []
    },
    {
      "cell_type": "markdown",
      "source": [
        "# **Compile the model, with loss and optimizer functions**\n",
        "\n",
        "* Loss function - A way of measuring how far off predictions are from the desired outcome. (The measured difference is called the \"loss\".\n",
        "* Optimizer function - A way of adjusting internal values in order to reduce the loss."
      ],
      "metadata": {
        "id": "kI9tHWfMw0G4"
      }
    },
    {
      "cell_type": "code",
      "source": [
        "model.compile(loss='mean_squared_error',\n",
        "              optimizer=tf.keras.optimizers.Adam(0.1))"
      ],
      "metadata": {
        "id": "HgFLtIFww8Pd"
      },
      "execution_count": 33,
      "outputs": []
    },
    {
      "cell_type": "markdown",
      "source": [
        "# **Train the Model**\n",
        "\n",
        "by using the fit model\n",
        "\n",
        "During training, the model takes in Celsius values, performs a calculation using the current internal variables (called \"weights\") and outputs values which are meant to be the Fahrenheit equivalent. Since the weights are intially set randomly, the output will not be close to the correct value. The difference between the actual output and the desired output is calculated using the loss function, and the optimizer function directs how the weights should be adjusted.\n",
        "This cycle of calculate, compare, adjust is controlled by the fit method. The first argument is the inputs, the second argument is the desired outputs. The epochs argument specifies how many times this cycle should be run, and the verbose argument controls how much output the method produces."
      ],
      "metadata": {
        "id": "-LK3oyeJxWG0"
      }
    },
    {
      "cell_type": "code",
      "source": [
        "history = model.fit(celsius_q, fahrenheit_a, epochs = 500, verbose = False)\n",
        "print(\"Finished training the model\")"
      ],
      "metadata": {
        "colab": {
          "base_uri": "https://localhost:8080/"
        },
        "id": "5E4RDrgMxkRJ",
        "outputId": "8f54c68e-4e82-4b46-ebab-f2bdb174ec55"
      },
      "execution_count": 34,
      "outputs": [
        {
          "output_type": "stream",
          "name": "stdout",
          "text": [
            "Finished training the model\n"
          ]
        }
      ]
    },
    {
      "cell_type": "markdown",
      "source": [
        "# **Display Training Statistics**\n",
        "\n",
        "The fit method returns a history object. We can use this object to plot how the loss of our model goes down after each training epoch. A high loss means that the Fahrenheit degrees the model predicts is far from the corresponding value in fahrenheit_a.\n"
      ],
      "metadata": {
        "id": "eRxftQlRyDkA"
      }
    },
    {
      "cell_type": "code",
      "source": [
        "import matplotlib.pyplot as plt\n",
        "plt.xlabel('Epoch Number')\n",
        "plt.ylabel(\"Loss Magnitude\")\n",
        "plt.plot(history.history['loss'])\n"
      ],
      "metadata": {
        "colab": {
          "base_uri": "https://localhost:8080/",
          "height": 467
        },
        "id": "f7ACch4hyLfT",
        "outputId": "8db6803d-c6cd-428a-db20-e216249e906d"
      },
      "execution_count": 35,
      "outputs": [
        {
          "output_type": "execute_result",
          "data": {
            "text/plain": [
              "[<matplotlib.lines.Line2D at 0x7d15f82c2350>]"
            ]
          },
          "metadata": {},
          "execution_count": 35
        },
        {
          "output_type": "display_data",
          "data": {
            "text/plain": [
              "<Figure size 640x480 with 1 Axes>"
            ],
            "image/png": "[encoded data removed]"
          },
          "metadata": {}
        }
      ]
    },
    {
      "cell_type": "markdown",
      "source": [
        "# **Use the model to predict values**\n",
        "\n",
        "if the Celsius value is 200, farhrenheit value will be 100 * 1.8 + 32 = 212"
      ],
      "metadata": {
        "id": "HiW1KsKqydxY"
      }
    },
    {
      "cell_type": "code",
      "source": [
        "print(model.predict(np.array([100.0]))) # Convert the list [100.0] to a NumPy array"
      ],
      "metadata": {
        "colab": {
          "base_uri": "https://localhost:8080/"
        },
        "id": "OkVAMsy3yxT3",
        "outputId": "f2607137-590d-4ea2-d529-3149653eddc6"
      },
      "execution_count": 36,
      "outputs": [
        {
          "output_type": "stream",
          "name": "stdout",
          "text": [
            "\u001b[1m1/1\u001b[0m \u001b[32m━━━━━━━━━━━━━━━━━━━━\u001b[0m\u001b[37m\u001b[0m \u001b[1m0s\u001b[0m 43ms/step\n",
            "[[211.27074]]\n"
          ]
        }
      ]
    },
    {
      "cell_type": "markdown",
      "source": [
        "# **Review**\n",
        "* We created a model with dense layer\n",
        "* Trained it with 3500 examples (7 pairs, over 500 epochs)\n",
        "\n",
        "Our model tuned the variables (weights) in the Dense layer until it was able to return the correct Fahrenheit value for any Celsius value.\n"
      ],
      "metadata": {
        "id": "LbkLi9_ozP5q"
      }
    }
  ]
}